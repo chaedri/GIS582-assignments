{
 "cells": [
  {
   "cell_type": "markdown",
   "id": "8fcd4642-f56f-4f19-9875-86e9ce6586dc",
   "metadata": {
    "tags": []
   },
   "source": [
    "# NCSU GIS 582: Geospatial Modeling and Analysis\n",
    "\n",
    "## Introduction to Jupyter Notebooks Assignment B"
   ]
  },
  {
   "cell_type": "markdown",
   "id": "b49e476f-a68c-4bd0-98a8-23a2ee7398c6",
   "metadata": {},
   "source": [
    "_YOUR NAME AND DATE HERE_"
   ]
  },
  {
   "cell_type": "markdown",
   "id": "cf1801c7-1dff-41e5-b951-fbc48496c414",
   "metadata": {},
   "source": [
    "## Task 1: Import Python Packages and Start GRASS Session\n",
    "\n",
    "Import the necessary packages and start a GRASS session in the `nc_spm_08_grass7` project and PERMANENT mapset. Confirm the session is working by printing the computational region with `g.region`."
   ]
  },
  {
   "cell_type": "markdown",
   "id": "536a3472-3ae5-4e31-aff8-2395302f6984",
   "metadata": {},
   "source": [
    "## Task 2: Who lives farthest from school?\n",
    "\n",
    "Compute the distance to the nearest school (as the crow flies). Display this point on a map. Narrate your workflow."
   ]
  },
  {
   "cell_type": "code",
   "execution_count": null,
   "id": "ed7c549d-2156-4aa3-b6a8-9f7f887b5f42",
   "metadata": {},
   "outputs": [],
   "source": []
  }
 ],
 "metadata": {
  "kernelspec": {
   "display_name": "Python 3 (ipykernel)",
   "language": "python",
   "name": "python3"
  },
  "language_info": {
   "codemirror_mode": {
    "name": "ipython",
    "version": 3
   },
   "file_extension": ".py",
   "mimetype": "text/x-python",
   "name": "python",
   "nbconvert_exporter": "python",
   "pygments_lexer": "ipython3",
   "version": "3.9.9"
  }
 },
 "nbformat": 4,
 "nbformat_minor": 5
}
